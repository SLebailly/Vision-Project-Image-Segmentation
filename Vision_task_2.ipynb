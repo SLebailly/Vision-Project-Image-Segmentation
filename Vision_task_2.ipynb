{
 "cells": [
  {
   "cell_type": "markdown",
   "metadata": {
    "collapsed": true,
    "pycharm": {
     "name": "#%% md\n"
    }
   },
   "source": [
    "# Recurrent Residual Convolutional Neural Network\n",
    "\n",
    "### Simon Laurent Lebailly, 2549365, s9sileba@teams.uni-saarland.de\n",
    "### Christian Mathieu Schmidt, 2537621, s9cmscmi@teams.uni-saarland.de"
   ]
  },
  {
   "cell_type": "markdown",
   "source": [],
   "metadata": {
    "collapsed": false,
    "pycharm": {
     "name": "#%% md\n"
    }
   }
  },
  {
   "cell_type": "markdown",
   "source": [
    "## 1) Preliminaries"
   ],
   "metadata": {
    "collapsed": false,
    "pycharm": {
     "name": "#%% md\n"
    }
   }
  },
  {
   "cell_type": "markdown",
   "source": [
    "#### Import libaries"
   ],
   "metadata": {
    "collapsed": false
   }
  },
  {
   "cell_type": "code",
   "execution_count": 1,
   "outputs": [],
   "source": [
    "import os\n",
    "import torch\n",
    "import numpy as np\n",
    "import matplotlib.pyplot as plt\n",
    "\n",
    "from tqdm import tqdm"
   ],
   "metadata": {
    "collapsed": false,
    "pycharm": {
     "name": "#%%\n"
    }
   }
  },
  {
   "cell_type": "markdown",
   "source": [
    "#### Use CUDA if possible"
   ],
   "metadata": {
    "collapsed": false,
    "pycharm": {
     "name": "#%% md\n"
    }
   }
  },
  {
   "cell_type": "code",
   "execution_count": 2,
   "outputs": [
    {
     "name": "stdout",
     "output_type": "stream",
     "text": [
      "CUDA available!\n"
     ]
    }
   ],
   "source": [
    "#Check if CUDA is available, if not use the CPU.\n",
    "train_on_GPU = torch.cuda.is_available()\n",
    "device = torch.device('cuda' if train_on_GPU else 'cpu')\n",
    "\n",
    "if train_on_GPU:\n",
    "    print('CUDA available!')\n",
    "else:\n",
    "    print('CUDA not available!')"
   ],
   "metadata": {
    "collapsed": false,
    "pycharm": {
     "name": "#%%\n"
    }
   }
  },
  {
   "cell_type": "markdown",
   "source": [
    "#### Define Hyperparameters"
   ],
   "metadata": {
    "collapsed": false,
    "pycharm": {
     "name": "#%% md\n"
    }
   }
  },
  {
   "cell_type": "code",
   "execution_count": 3,
   "outputs": [],
   "source": [
    "train = True\n",
    "validate = True\n",
    "evaluate = True\n",
    "\n",
    "batch_size = 8\n",
    "epochs = 10\n",
    "\n",
    "learning_rate = 0.00001"
   ],
   "metadata": {
    "collapsed": false,
    "pycharm": {
     "name": "#%%\n"
    }
   }
  },
  {
   "cell_type": "markdown",
   "source": [
    "## 2) Data"
   ],
   "metadata": {
    "collapsed": false,
    "pycharm": {
     "name": "#%% md\n"
    }
   }
  },
  {
   "cell_type": "markdown",
   "source": [
    "#### Import dataset Cityscapes"
   ],
   "metadata": {
    "collapsed": false,
    "pycharm": {
     "name": "#%% md\n"
    }
   }
  },
  {
   "cell_type": "code",
   "execution_count": 4,
   "outputs": [
    {
     "name": "stdout",
     "output_type": "stream",
     "text": [
      "Quantity training data: 2975\n",
      "Quantity validation data: 500\n",
      "Quantity testing data: 1525\n"
     ]
    }
   ],
   "source": [
    "import torchvision\n",
    "from torchvision import transforms\n",
    "from torchvision import datasets\n",
    "from torch.utils import data\n",
    "\n",
    "\n",
    "#Define normalization for dataset\n",
    "normalize = transforms.Normalize(\n",
    "    mean = [0.485, 0.456, 0.406],\n",
    "    std = [0.229, 0.224, 0.225]\n",
    ")\n",
    "\n",
    "#Define transformation for train, validation and test dataset\n",
    "transform = transforms.Compose([\n",
    "    transforms.Resize((256,512)),\n",
    "    transforms.ToTensor(),\n",
    "    normalize\n",
    "])\n",
    "\n",
    "class TransformToTensor(object):\n",
    "    \"\"\"Convert ndarrays in sample to Tensors.\"\"\"\n",
    "\n",
    "    def __call__(self, sample):\n",
    "        sample_out = (sample*256).long()\n",
    "        return sample_out\n",
    "\n",
    "target_transform = transforms.Compose([\n",
    "    transforms.Resize((256,512)),\n",
    "    transforms.ToTensor(),\n",
    "    TransformToTensor()\n",
    "])\n",
    "\n",
    "\n",
    "#Path of dataset\n",
    "root_path = 'C:/Users/chris/Documents/Cityscapes_dataset/Cityscapes'\n",
    "\n",
    "\n",
    "#Import dataset for training\n",
    "train_set = datasets.Cityscapes(root=root_path, split='train', mode='fine', target_type='semantic', transform=transform, target_transform=target_transform)\n",
    "quantity_train = len(train_set)\n",
    "print('Quantity training data: '+ str(quantity_train))\n",
    "\n",
    "#Prepare training dataset for NN\n",
    "train_loader = data.DataLoader(train_set, batch_size=batch_size, shuffle=True)\n",
    "\n",
    "\n",
    "#Import dataset for validation\n",
    "validation_set = datasets.Cityscapes(root=root_path, split='val', mode='fine', target_type='semantic', transform=transform, target_transform=target_transform)\n",
    "quantity_validation = len(validation_set)\n",
    "print('Quantity validation data: '+ str(quantity_validation))\n",
    "\n",
    "#Prepare validation dataset for NN\n",
    "validation_loader = data.DataLoader(validation_set, batch_size=batch_size, shuffle=False)\n",
    "\n",
    "\n",
    "#Import dataset for testing\n",
    "test_set = datasets.Cityscapes(root=root_path, split='test', mode='fine', target_type='semantic', transform=transform, target_transform=target_transform)\n",
    "quantity_test = len(test_set)\n",
    "print('Quantity testing data: '+ str(quantity_test))\n",
    "\n",
    "#Prepare test dataset for NN\n",
    "test_loader = data.DataLoader(test_set, batch_size=batch_size, shuffle=False)\n"
   ],
   "metadata": {
    "collapsed": false,
    "pycharm": {
     "name": "#%%\n"
    }
   }
  },
  {
   "cell_type": "code",
   "execution_count": 5,
   "outputs": [
    {
     "name": "stderr",
     "output_type": "stream",
     "text": [
      "Clipping input data to the valid range for imshow with RGB data ([0..1] for floats or [0..255] for integers).\n",
      "Clipping input data to the valid range for imshow with RGB data ([0..1] for floats or [0..255] for integers).\n"
     ]
    },
    {
     "name": "stdout",
     "output_type": "stream",
     "text": [
      "tensor([[[ 3,  3,  4,  ...,  3,  3,  3],\n",
      "         [ 3, 10, 17,  ...,  9,  7,  3],\n",
      "         [ 3, 13, 23,  ..., 11,  9,  3],\n",
      "         ...,\n",
      "         [ 3,  6,  8,  ...,  7,  6,  3],\n",
      "         [ 3,  5,  7,  ...,  6,  5,  3],\n",
      "         [ 3,  3,  3,  ...,  3,  3,  3]]])\n"
     ]
    },
    {
     "data": {
      "text/plain": "<Figure size 432x288 with 1 Axes>",
      "image/png": "[encoded data removed]"
     },
     "metadata": {
      "needs_background": "light"
     },
     "output_type": "display_data"
    },
    {
     "data": {
      "text/plain": "<Figure size 432x288 with 1 Axes>",
      "image/png": "[encoded data removed]"
     },
     "metadata": {
      "needs_background": "light"
     },
     "output_type": "display_data"
    }
   ],
   "source": [
    "#Printouts for testing train set\n",
    "\n",
    "#print(train_loader)\n",
    "#print(validation_loader)\n",
    "#print(test_loader)\n",
    "\n",
    "#Tensor to image\n",
    "def imshow(img):\n",
    "    img = img / 2 + 0.5     # unnormalize\n",
    "    npimg = img.numpy()\n",
    "    plt.imshow(np.transpose(npimg, (1, 2, 0)))\n",
    "    plt.show()\n",
    "\n",
    "img, segm = train_set[3]\n",
    "#print(img)\n",
    "print(segm)\n",
    "#segm_norm = segm\n",
    "#segm_norm = (torch.round(segm*256)-1).long()\n",
    "#print(segm_norm.size())\n",
    "#targ_min = 32\n",
    "#targ_max = 0\n",
    "#for b in range(0, 1):\n",
    "#    for r in range(0,256):\n",
    "#        for c in range(0,512):\n",
    "#            #if label_mask[b][r][c] >= 32:\n",
    "#                #print(\"First eval: \" + str(label_mask[b][r][c]) + \", \" + str(b) + \", \" + str(r) + \", \" + str(c))\n",
    "#            if segm_norm[b][r][c] > targ_max:\n",
    "#                targ_max = segm_norm[b][r][c]\n",
    "#            if segm_norm[b][r][c] < targ_min:\n",
    "#                targ_min = segm_norm[b][r][c]\n",
    "#print(\"targ_min: \" + str(targ_min))\n",
    "#print(\"targ_max: \" + str(targ_max))\n",
    "\n",
    "#segm_norm = (segm*8)/256\n",
    "#print(segm_norm)\n",
    "#print(img.size())\n",
    "imshow(torchvision.utils.make_grid(img))\n",
    "imshow(torchvision.utils.make_grid(segm))\n",
    "#print(segm)\n",
    "#segm.show()\n",
    "#print(type(train_set))\n",
    "#print(train_set)"
   ],
   "metadata": {
    "collapsed": false,
    "pycharm": {
     "name": "#%%\n"
    }
   }
  },
  {
   "cell_type": "markdown",
   "source": [
    "## 3) Model"
   ],
   "metadata": {
    "collapsed": false,
    "pycharm": {
     "name": "#%% md\n"
    }
   }
  },
  {
   "cell_type": "markdown",
   "source": [
    "#### Define R2U-Net model"
   ],
   "metadata": {
    "collapsed": false,
    "pycharm": {
     "name": "#%% md\n"
    }
   }
  },
  {
   "cell_type": "code",
   "execution_count": 6,
   "outputs": [],
   "source": [
    "import torch.nn as nn\n",
    "\n",
    "class R2U_Net(nn.Module):\n",
    "    def __init__(self):\n",
    "        super(R2U_Net, self).__init__()\n",
    "        #define the layers for your model\n",
    "\n",
    "        #VGG16 as encoder\n",
    "        self.encode_features = nn.Sequential(\n",
    "            nn.Conv2d(3, 64, kernel_size=(3, 3), stride=(1, 1), padding=(1, 1)),\n",
    "            nn.ReLU(),\n",
    "            nn.Conv2d(64, 64, kernel_size=(3, 3), stride=(1, 1), padding=(1, 1)),\n",
    "            nn.ReLU(),\n",
    "            nn.MaxPool2d(kernel_size=2, stride=2, padding=0, dilation=1, ceil_mode=False),\n",
    "\n",
    "            nn.Conv2d(64, 128, kernel_size=(3, 3), stride=(1, 1), padding=(1, 1)),\n",
    "            nn.ReLU(),\n",
    "            nn.Conv2d(128, 128, kernel_size=(3, 3), stride=(1, 1), padding=(1, 1)),\n",
    "            nn.ReLU(),\n",
    "            nn.MaxPool2d(kernel_size=2, stride=2, padding=0, dilation=1, ceil_mode=False),\n",
    "            #nn.BatchNorm2d(128),\n",
    "\n",
    "            nn.Conv2d(128, 256, kernel_size=(3, 3), stride=(1, 1), padding=(1, 1)),\n",
    "            nn.ReLU(),\n",
    "            nn.Conv2d(256, 256, kernel_size=(3, 3), stride=(1, 1), padding=(1, 1)),\n",
    "            nn.ReLU(),\n",
    "            nn.Conv2d(256, 256, kernel_size=(3, 3), stride=(1, 1), padding=(1, 1)),\n",
    "            nn.ReLU(),\n",
    "            nn.MaxPool2d(kernel_size=2, stride=2, padding=0, dilation=1, ceil_mode=False),\n",
    "\n",
    "            nn.Conv2d(256, 512, kernel_size=(3, 3), stride=(1, 1), padding=(1, 1)),\n",
    "            nn.ReLU(),\n",
    "            nn.Conv2d(512, 512, kernel_size=(3, 3), stride=(1, 1), padding=(1, 1)),\n",
    "            nn.ReLU(),\n",
    "            nn.Conv2d(512, 512, kernel_size=(3, 3), stride=(1, 1), padding=(1, 1)),\n",
    "            nn.ReLU(),\n",
    "            nn.MaxPool2d(kernel_size=2, stride=2, padding=0, dilation=1, ceil_mode=False),\n",
    "\n",
    "            nn.Conv2d(512, 512, kernel_size=(3, 3), stride=(1, 1), padding=(1, 1)),\n",
    "            nn.ReLU(),\n",
    "            nn.Conv2d(512, 512, kernel_size=(3, 3), stride=(1, 1), padding=(1, 1)),\n",
    "            nn.ReLU(),\n",
    "            nn.Conv2d(512, 512, kernel_size=(3, 3), stride=(1, 1), padding=(1, 1)),\n",
    "            nn.ReLU(),\n",
    "            nn.MaxPool2d(kernel_size=2, stride=2, padding=0, dilation=1, ceil_mode=False),\n",
    "            #nn.BatchNorm2d(512),\n",
    "            #nn.Flatten(start_dim=3),\n",
    "        )\n",
    "\n",
    "        self.avgpool = nn.AdaptiveAvgPool2d(output_size=(7, 7))\n",
    "\n",
    "        self.classifier = nn.Sequential(\n",
    "            nn.Linear(in_features=25088, out_features=4096, bias=True),\n",
    "            nn.ReLU(),\n",
    "            nn.Dropout(p=0.5, inplace=False),\n",
    "\n",
    "            nn.Linear(in_features=4096, out_features=4096, bias=True),\n",
    "            nn.ReLU(),\n",
    "            nn.Dropout(p=0.5, inplace=False),\n",
    "\n",
    "            nn.Linear(in_features=4096, out_features=1000, bias=True),\n",
    "        )\n",
    "\n",
    "        #Blabla as decoder\n",
    "        self.decode_features = nn.Sequential(\n",
    "            nn.Upsample(size=(8,16)),\n",
    "            nn.ConvTranspose2d(512, 512, kernel_size=(3, 3), stride=(1, 1), padding=(1, 1)),\n",
    "            nn.ReLU(),\n",
    "            nn.ConvTranspose2d(512, 512, kernel_size=(3, 3), stride=(1, 1), padding=(1, 1)),\n",
    "            nn.ReLU(),\n",
    "            nn.ConvTranspose2d(512, 512, kernel_size=(3, 3), stride=(1, 1), padding=(1, 1)),\n",
    "            nn.ReLU(),\n",
    "            nn.ConvTranspose2d(512, 512, kernel_size=(3, 3), stride=(1, 1), padding=(1, 1)),\n",
    "            nn.ReLU(),\n",
    "            nn.ConvTranspose2d(512, 512, kernel_size=(3, 3), stride=(1, 1), padding=(1, 1)),\n",
    "            nn.ReLU(),\n",
    "            #nn.BatchNorm2d(512),\n",
    "            nn.Upsample(scale_factor=(2.0, 2.0)),\n",
    "            nn.ConvTranspose2d(512, 256, kernel_size=(3, 3), stride=(1, 1), padding=(1, 1)),\n",
    "            nn.ReLU(),\n",
    "\n",
    "            nn.ConvTranspose2d(256, 256, kernel_size=(3, 3), stride=(1, 1), padding=(1, 1)),\n",
    "            nn.ReLU(),\n",
    "            nn.ConvTranspose2d(256, 256, kernel_size=(3, 3), stride=(1, 1), padding=(1, 1)),\n",
    "            nn.ReLU(),\n",
    "            nn.Upsample(scale_factor=(2.0, 2.0)),\n",
    "            nn.ConvTranspose2d(256, 128, kernel_size=(3, 3), stride=(1, 1), padding=(1, 1)),\n",
    "            nn.ReLU(),\n",
    "\n",
    "            nn.ConvTranspose2d(128, 128, kernel_size=(3, 3), stride=(1, 1), padding=(1, 1)),\n",
    "            nn.ReLU(),\n",
    "            nn.Upsample(scale_factor=(2.0, 2.0)),\n",
    "            nn.ConvTranspose2d(128, 64, kernel_size=(3, 3), stride=(1, 1), padding=(1, 1)),\n",
    "            nn.ReLU(),\n",
    "\n",
    "            nn.ConvTranspose2d(64, 64, kernel_size=(3, 3), stride=(1, 1), padding=(1, 1)),\n",
    "            nn.ReLU(),\n",
    "            nn.Upsample(scale_factor=(2.0, 2.0)),\n",
    "            nn.ConvTranspose2d(64, 32, kernel_size=(3, 3), stride=(1, 1), padding=(1, 1)),\n",
    "            nn.ReLU(),\n",
    "\n",
    "            #nn.BatchNorm2d(32),\n",
    "            nn.Upsample(scale_factor=(2.0, 2.0)),\n",
    "            nn.ConvTranspose2d(32, 34, kernel_size=(3, 3), stride=(1, 1), padding=(1, 1)),\n",
    "            #nn.ReLU(),\n",
    "\n",
    "            nn.Softmax(),\n",
    "        )\n",
    "\n",
    "\n",
    "\n",
    "    def encode(self, x):\n",
    "        out = self.encode_features(x)\n",
    "        #print(out.size())\n",
    "        out = self.avgpool(out)\n",
    "        #print(out.size())\n",
    "        #out = out.view(-1, 512*7*7)\n",
    "        #print(out.size())\n",
    "        #out = self.classifier(out)\n",
    "        #print(out.size())\n",
    "        return out\n",
    "\n",
    "\n",
    "    def decode(self,x):\n",
    "        #out = x\n",
    "        out = self.avgpool(x)\n",
    "        out = self.decode_features(out)\n",
    "        #print(out.size())\n",
    "        return out\n",
    "\n",
    "\n",
    "    def forward(self, x):\n",
    "        #print(x.size())\n",
    "        out = self.decode(self.encode(x))\n",
    "        #print(out.size())\n",
    "        return out"
   ],
   "metadata": {
    "collapsed": false,
    "pycharm": {
     "name": "#%%\n"
    }
   }
  },
  {
   "source": [
    "#### Build R2U-Net model"
   ],
   "cell_type": "markdown",
   "metadata": {}
  },
  {
   "cell_type": "code",
   "source": [
    "#Load model to device\n",
    "r2u_net = R2U_Net().to(device)\n",
    "print(r2u_net)"
   ],
   "metadata": {
    "collapsed": false,
    "pycharm": {
     "name": "#%%\n"
    }
   },
   "execution_count": 7,
   "outputs": [
    {
     "name": "stdout",
     "output_type": "stream",
     "text": [
      "R2U_Net(\n",
      "  (encode_features): Sequential(\n",
      "    (0): Conv2d(3, 64, kernel_size=(3, 3), stride=(1, 1), padding=(1, 1))\n",
      "    (1): ReLU()\n",
      "    (2): Conv2d(64, 64, kernel_size=(3, 3), stride=(1, 1), padding=(1, 1))\n",
      "    (3): ReLU()\n",
      "    (4): MaxPool2d(kernel_size=2, stride=2, padding=0, dilation=1, ceil_mode=False)\n",
      "    (5): Conv2d(64, 128, kernel_size=(3, 3), stride=(1, 1), padding=(1, 1))\n",
      "    (6): ReLU()\n",
      "    (7): Conv2d(128, 128, kernel_size=(3, 3), stride=(1, 1), padding=(1, 1))\n",
      "    (8): ReLU()\n",
      "    (9): MaxPool2d(kernel_size=2, stride=2, padding=0, dilation=1, ceil_mode=False)\n",
      "    (10): Conv2d(128, 256, kernel_size=(3, 3), stride=(1, 1), padding=(1, 1))\n",
      "    (11): ReLU()\n",
      "    (12): Conv2d(256, 256, kernel_size=(3, 3), stride=(1, 1), padding=(1, 1))\n",
      "    (13): ReLU()\n",
      "    (14): Conv2d(256, 256, kernel_size=(3, 3), stride=(1, 1), padding=(1, 1))\n",
      "    (15): ReLU()\n",
      "    (16): MaxPool2d(kernel_size=2, stride=2, padding=0, dilation=1, ceil_mode=False)\n",
      "    (17): Conv2d(256, 512, kernel_size=(3, 3), stride=(1, 1), padding=(1, 1))\n",
      "    (18): ReLU()\n",
      "    (19): Conv2d(512, 512, kernel_size=(3, 3), stride=(1, 1), padding=(1, 1))\n",
      "    (20): ReLU()\n",
      "    (21): Conv2d(512, 512, kernel_size=(3, 3), stride=(1, 1), padding=(1, 1))\n",
      "    (22): ReLU()\n",
      "    (23): MaxPool2d(kernel_size=2, stride=2, padding=0, dilation=1, ceil_mode=False)\n",
      "    (24): Conv2d(512, 512, kernel_size=(3, 3), stride=(1, 1), padding=(1, 1))\n",
      "    (25): ReLU()\n",
      "    (26): Conv2d(512, 512, kernel_size=(3, 3), stride=(1, 1), padding=(1, 1))\n",
      "    (27): ReLU()\n",
      "    (28): Conv2d(512, 512, kernel_size=(3, 3), stride=(1, 1), padding=(1, 1))\n",
      "    (29): ReLU()\n",
      "    (30): MaxPool2d(kernel_size=2, stride=2, padding=0, dilation=1, ceil_mode=False)\n",
      "  )\n",
      "  (avgpool): AdaptiveAvgPool2d(output_size=(7, 7))\n",
      "  (classifier): Sequential(\n",
      "    (0): Linear(in_features=25088, out_features=4096, bias=True)\n",
      "    (1): ReLU()\n",
      "    (2): Dropout(p=0.5, inplace=False)\n",
      "    (3): Linear(in_features=4096, out_features=4096, bias=True)\n",
      "    (4): ReLU()\n",
      "    (5): Dropout(p=0.5, inplace=False)\n",
      "    (6): Linear(in_features=4096, out_features=1000, bias=True)\n",
      "  )\n",
      "  (decode_features): Sequential(\n",
      "    (0): Upsample(size=(8, 16), mode=nearest)\n",
      "    (1): ConvTranspose2d(512, 512, kernel_size=(3, 3), stride=(1, 1), padding=(1, 1))\n",
      "    (2): ReLU()\n",
      "    (3): ConvTranspose2d(512, 512, kernel_size=(3, 3), stride=(1, 1), padding=(1, 1))\n",
      "    (4): ReLU()\n",
      "    (5): ConvTranspose2d(512, 512, kernel_size=(3, 3), stride=(1, 1), padding=(1, 1))\n",
      "    (6): ReLU()\n",
      "    (7): ConvTranspose2d(512, 512, kernel_size=(3, 3), stride=(1, 1), padding=(1, 1))\n",
      "    (8): ReLU()\n",
      "    (9): ConvTranspose2d(512, 512, kernel_size=(3, 3), stride=(1, 1), padding=(1, 1))\n",
      "    (10): ReLU()\n",
      "    (11): Upsample(scale_factor=(2.0, 2.0), mode=nearest)\n",
      "    (12): ConvTranspose2d(512, 256, kernel_size=(3, 3), stride=(1, 1), padding=(1, 1))\n",
      "    (13): ReLU()\n",
      "    (14): ConvTranspose2d(256, 256, kernel_size=(3, 3), stride=(1, 1), padding=(1, 1))\n",
      "    (15): ReLU()\n",
      "    (16): ConvTranspose2d(256, 256, kernel_size=(3, 3), stride=(1, 1), padding=(1, 1))\n",
      "    (17): ReLU()\n",
      "    (18): Upsample(scale_factor=(2.0, 2.0), mode=nearest)\n",
      "    (19): ConvTranspose2d(256, 128, kernel_size=(3, 3), stride=(1, 1), padding=(1, 1))\n",
      "    (20): ReLU()\n",
      "    (21): ConvTranspose2d(128, 128, kernel_size=(3, 3), stride=(1, 1), padding=(1, 1))\n",
      "    (22): ReLU()\n",
      "    (23): Upsample(scale_factor=(2.0, 2.0), mode=nearest)\n",
      "    (24): ConvTranspose2d(128, 64, kernel_size=(3, 3), stride=(1, 1), padding=(1, 1))\n",
      "    (25): ReLU()\n",
      "    (26): ConvTranspose2d(64, 64, kernel_size=(3, 3), stride=(1, 1), padding=(1, 1))\n",
      "    (27): ReLU()\n",
      "    (28): Upsample(scale_factor=(2.0, 2.0), mode=nearest)\n",
      "    (29): ConvTranspose2d(64, 32, kernel_size=(3, 3), stride=(1, 1), padding=(1, 1))\n",
      "    (30): ReLU()\n",
      "    (31): Upsample(scale_factor=(2.0, 2.0), mode=nearest)\n",
      "    (32): ConvTranspose2d(32, 34, kernel_size=(3, 3), stride=(1, 1), padding=(1, 1))\n",
      "    (33): Softmax(dim=None)\n",
      "  )\n",
      ")\n"
     ]
    }
   ]
  },
  {
   "cell_type": "markdown",
   "source": [
    "## 4) Loss and Optimizer"
   ],
   "metadata": {
    "collapsed": false,
    "pycharm": {
     "name": "#%% md\n"
    }
   }
  },
  {
   "cell_type": "code",
   "execution_count": 8,
   "outputs": [],
   "source": [
    "# loss function\n",
    "criterion = nn.CrossEntropyLoss().to(device)\n",
    "\n",
    "# optimizer variable\n",
    "optimizer = torch.optim.Adam(r2u_net.parameters(), lr=learning_rate)"
   ],
   "metadata": {
    "collapsed": false,
    "pycharm": {
     "name": "#%%\n"
    }
   }
  },
  {
   "cell_type": "markdown",
   "source": [
    "## 5) Train model"
   ],
   "metadata": {
    "collapsed": false,
    "pycharm": {
     "name": "#%% md\n"
    }
   }
  },
  {
   "cell_type": "markdown",
   "source": [
    "#### Definition train and validation loop"
   ],
   "metadata": {
    "collapsed": false,
    "pycharm": {
     "name": "#%% md\n"
    }
   }
  },
  {
   "cell_type": "code",
   "execution_count": 9,
   "outputs": [],
   "source": [
    "scaler = torch.cuda.amp.GradScaler()\n",
    "\n",
    "\n",
    "def train_model(epoch, train_loader):\n",
    "    trainloader_loop = tqdm(train_loader)\n",
    "    printrate = int(quantity_train/(batch_size*10))\n",
    "    train_loss = 0.0\n",
    "\n",
    "    #Set model mode to train\n",
    "    r2u_net.train()\n",
    "\n",
    "    #Iterate over all batches in train_loader\n",
    "    for i, batch in enumerate(trainloader_loop):\n",
    "        #Input Image for forward pass\n",
    "        input_image = batch[0].to(device)\n",
    "\n",
    "        #Label \"image\" for comparing with loss function\n",
    "        label_mask = batch[1].to(device)\n",
    "        label_mask = label_mask.squeeze(1)\n",
    "\n",
    "        #Forward propagation\n",
    "        with torch.cuda.amp.autocast():\n",
    "            output_model = r2u_net(input_image)\n",
    "\n",
    "            loss = criterion(output_model, label_mask)\n",
    "\n",
    "            #Print with loss\n",
    "            train_loss += loss.item()\n",
    "            if i % printrate == 0:\n",
    "                print('[%d, %5d] train_loss: %.3f' % (epoch+1, i+1, loss.item()))\n",
    "                running_loss = 0.0\n",
    "\n",
    "        #Backward propagation\n",
    "        optimizer.zero_grad()\n",
    "        scaler.scale(loss).backward()\n",
    "        scaler.step(optimizer)\n",
    "        scaler.update()\n",
    "\n",
    "        #update tqdm\n",
    "        trainloader_loop.set_postfix(loss=loss.item())\n",
    "        val_loss = loss\n",
    "\n",
    "    print(\"Finished training!\")\n",
    "\n",
    "    #Calculate validation_loss\n",
    "    train_loss = train_loss/(quantity_train * batch_size)\n",
    "    \n",
    "    return train_loss\n",
    "\n",
    "\n",
    "\n",
    "def validate_model(epoch, validation_loader):\n",
    "    validationloader_loop = tqdm(validation_loader)\n",
    "    printrate = int(quantity_validation/(batch_size*10))\n",
    "    validation_loss = 0.0\n",
    "\n",
    "    #Set model mode to evaluation\n",
    "    r2u_net.eval()\n",
    "\n",
    "    #Iterate over all batches in validation_loader\n",
    "    for i, batch in enumerate(validationloader_loop):\n",
    "        #Input Image for forward pass\n",
    "        input_image = batch[0].to(device)\n",
    "\n",
    "        #Label \"image\" for comparing with loss function\n",
    "        label_mask = batch[1].to(device)\n",
    "        label_mask = label_mask.squeeze(1)\n",
    "\n",
    "        #Forward propagation\n",
    "        with torch.cuda.amp.autocast():\n",
    "            output_model = r2u_net(input_image)\n",
    "\n",
    "            loss = criterion(output_model, label_mask)\n",
    "\n",
    "            #Print with loss\n",
    "            validation_loss += loss.item()\n",
    "            if i % printrate == 0:\n",
    "                print('[%d, %5d] validation_loss: %.3f' % (epoch+1, i+1, loss.item()))\n",
    "                running_loss = 0.0\n",
    "\n",
    "        #update tqdm\n",
    "        validationloader_loop.set_postfix(loss=loss.item())\n",
    "\n",
    "    print(\"Finished validation!\")\n",
    "    \n",
    "    #Calculate validation_loss\n",
    "    validation_loss = validation_loss/(quantity_validation * batch_size)\n",
    "    \n",
    "    return validation_loss\n"
   ],
   "metadata": {
    "collapsed": false,
    "pycharm": {
     "name": "#%%\n"
    }
   }
  },
  {
   "source": [
    "#### Training and validation of the model"
   ],
   "cell_type": "markdown",
   "metadata": {}
  },
  {
   "cell_type": "code",
   "execution_count": 10,
   "metadata": {},
   "outputs": [],
   "source": [
    "import torch.optim.lr_scheduler as lr_scheduler\n",
    "\n",
    "#Configure scheduler for learning_rate\n",
    "scheduler = lr_scheduler.ReduceLROnPlateau(optimizer, 'min', patience=int(2 * (epochs/10)))\n",
    "\n",
    "#Load parameters\n",
    "if os.path.isfile('task_2_model_parameters.pt'):\n",
    "    r2u_net = torch.load('task_2_model_parameters.pt')\n",
    "\n",
    "#Statistical parameters\n",
    "train_loss = 0.0\n",
    "train_loss_history = []\n",
    "validation_loss = 0.0\n",
    "validation_loss_history = []\n",
    "learning_rate_history = []\n",
    "\n",
    "\n",
    "#Iterate over every epoch\n",
    "if train:\n",
    "    for epoch in range(epochs):\n",
    "        #Train model\n",
    "        train_loss = train_model(epoch, train_loader)\n",
    "        train_loss_history.append(train_loss)\n",
    "\n",
    "        #Validate model\n",
    "        if validate:\n",
    "            validation_loss = validate_model(epoch, validation_loader)\n",
    "            validation_loss_history.append(validation_loss)\n",
    "\n",
    "        #Learning rate history\n",
    "        learning_rate_history.append(learning_rate)\n",
    "\n",
    "        scheduler.step(validation_loss)\n",
    "        torch.save(r2u_net, 'task_2_model_parameters.pt')\n",
    "\n",
    "    print(\"Finished train model!\")\n"
   ]
  },
  {
   "cell_type": "markdown",
   "source": [
    "#### Print lists of mean losses and scheduled learning for every epoch"
   ],
   "metadata": {
    "collapsed": false,
    "pycharm": {
     "name": "#%% md\n"
    }
   }
  },
  {
   "cell_type": "code",
   "execution_count": 11,
   "outputs": [
    {
     "name": "stdout",
     "output_type": "stream",
     "text": [
      "Train loss of every epoch: []\n",
      "Validation loss of every epoch: []\n",
      "Learning rate of every epoch: []\n"
     ]
    }
   ],
   "source": [
    "print(\"Train loss of every epoch: \" + str(train_loss_history))\n",
    "print(\"Validation loss of every epoch: \" + str(validation_loss_history))\n",
    "print(\"Learning rate of every epoch: \" + str(learning_rate_history))"
   ],
   "metadata": {
    "collapsed": false,
    "pycharm": {
     "name": "#%%\n"
    }
   }
  },
  {
   "cell_type": "markdown",
   "source": [
    "## 6) Evaluation"
   ],
   "metadata": {
    "collapsed": false,
    "pycharm": {
     "name": "#%% md\n"
    }
   }
  },
  {
   "cell_type": "markdown",
   "source": [
    "#### Evaluation metrics"
   ],
   "metadata": {
    "collapsed": false,
    "pycharm": {
     "name": "#%% md\n"
    }
   }
  },
  {
   "cell_type": "code",
   "execution_count": 12,
   "outputs": [],
   "source": [
    "from scipy import spatial\n",
    "import sklearn.metrics as metrics\n",
    "\n",
    "\n",
    "def one_row(ground_truth, prediction):\n",
    "    truth = prediction.argmax(dim=1).view(1,-1)\n",
    "    truth = np.squeeze(truth.numpy())\n",
    "\n",
    "    pred = ground_truth.view(1,-1)\n",
    "    pred = np.squeeze(pred.numpy())\n",
    "\n",
    "    return truth.astype(float), pred.astype(float)\n",
    "\n",
    "\n",
    "def evaluate(ground_truth, predictions):\n",
    "    ground_truth2 = ground_truth.copy()\n",
    "    predictions2 = predictions.copy()\n",
    "\n",
    "    f1_score = 0\n",
    "    auc_score = 0\n",
    "    dice_coefficient = 0\n",
    "\n",
    "    listlen = min(len(ground_truth2),len(predictions2))\n",
    "\n",
    "    for l in range(0, listlen):\n",
    "        x = ground_truth2[l]\n",
    "        y = predictions2[l]\n",
    "\n",
    "        transform_tensors = one_row(x, y)\n",
    "\n",
    "        f1_score += metrics.f1_score(transform_tensors[0], transform_tensors[1],average=None)\n",
    "        auc_score += metrics.roc_auc_score(transform_tensors[0], transform_tensors[1], average=None, multi_class='ovo')\n",
    "        dice_coefficient += abs(spatial.distance.dice(transform_tensors[0], transform_tensors[1], w=None))\n",
    "\n",
    "    f1_score = f1_score/listlen\n",
    "    auc_score = auc_score/listlen\n",
    "    dice_coefficient = dice_coefficient/listlen\n",
    "\n",
    "    return f1_score, auc_score, dice_coefficient"
   ],
   "metadata": {
    "collapsed": false,
    "pycharm": {
     "name": "#%%\n"
    }
   }
  },
  {
   "cell_type": "markdown",
   "source": [
    "#### Evaluation"
   ],
   "metadata": {
    "collapsed": false,
    "pycharm": {
     "name": "#%% md\n"
    }
   }
  },
  {
   "cell_type": "code",
   "execution_count": 13,
   "outputs": [],
   "source": [
    "f1_score = -1000.0\n",
    "auc_score = -1000.0\n",
    "dice_coefficient = -1000.0\n",
    "\n",
    "truth_list = []\n",
    "pred_list = []"
   ],
   "metadata": {
    "collapsed": false,
    "pycharm": {
     "name": "#%%\n"
    }
   }
  },
  {
   "cell_type": "code",
   "execution_count": 14,
   "outputs": [
    {
     "name": "stderr",
     "output_type": "stream",
     "text": [
      "  0%|          | 0/382 [00:00<?, ?it/s]c:\\users\\chris\\appdata\\local\\programs\\python\\python37\\lib\\site-packages\\torch\\nn\\modules\\container.py:119: UserWarning: Implicit dimension choice for softmax has been deprecated. Change the call to include dim=X as an argument.\n",
      "  input = module(input)\n",
      "  1%|          | 3/382 [00:02<04:21,  1.45it/s]\n"
     ]
    },
    {
     "ename": "AxisError",
     "evalue": "axis 1 is out of bounds for array of dimension 1",
     "output_type": "error",
     "traceback": [
      "\u001B[1;31m---------------------------------------------------------------------------\u001B[0m",
      "\u001B[1;31mAxisError\u001B[0m                                 Traceback (most recent call last)",
      "\u001B[1;32m<ipython-input-14-3c98699f8cbd>\u001B[0m in \u001B[0;36m<module>\u001B[1;34m\u001B[0m\n\u001B[0;32m     26\u001B[0m         \u001B[0mpred_list\u001B[0m\u001B[1;33m.\u001B[0m\u001B[0mappend\u001B[0m\u001B[1;33m(\u001B[0m\u001B[0mprediction\u001B[0m\u001B[1;33m.\u001B[0m\u001B[0mcpu\u001B[0m\u001B[1;33m(\u001B[0m\u001B[1;33m)\u001B[0m\u001B[1;33m.\u001B[0m\u001B[0mfloat\u001B[0m\u001B[1;33m(\u001B[0m\u001B[1;33m)\u001B[0m\u001B[1;33m)\u001B[0m\u001B[1;33m\u001B[0m\u001B[1;33m\u001B[0m\u001B[0m\n\u001B[0;32m     27\u001B[0m \u001B[1;33m\u001B[0m\u001B[0m\n\u001B[1;32m---> 28\u001B[1;33m     \u001B[0mscores\u001B[0m \u001B[1;33m=\u001B[0m \u001B[0mevaluate\u001B[0m\u001B[1;33m(\u001B[0m\u001B[0mtruth_list\u001B[0m\u001B[1;33m,\u001B[0m \u001B[0mpred_list\u001B[0m\u001B[1;33m)\u001B[0m\u001B[1;33m\u001B[0m\u001B[1;33m\u001B[0m\u001B[0m\n\u001B[0m\u001B[0;32m     29\u001B[0m \u001B[1;33m\u001B[0m\u001B[0m\n\u001B[0;32m     30\u001B[0m     \u001B[0mf1_score\u001B[0m \u001B[1;33m=\u001B[0m \u001B[0mscores\u001B[0m\u001B[1;33m[\u001B[0m\u001B[1;36m0\u001B[0m\u001B[1;33m]\u001B[0m\u001B[1;33m\u001B[0m\u001B[1;33m\u001B[0m\u001B[0m\n",
      "\u001B[1;32m<ipython-input-12-bb9b43728838>\u001B[0m in \u001B[0;36mevaluate\u001B[1;34m(ground_truth, predictions)\u001B[0m\n\u001B[0;32m     30\u001B[0m \u001B[1;33m\u001B[0m\u001B[0m\n\u001B[0;32m     31\u001B[0m         \u001B[0mf1_score\u001B[0m \u001B[1;33m+=\u001B[0m \u001B[0mmetrics\u001B[0m\u001B[1;33m.\u001B[0m\u001B[0mf1_score\u001B[0m\u001B[1;33m(\u001B[0m\u001B[0mtransform_tensors\u001B[0m\u001B[1;33m[\u001B[0m\u001B[1;36m0\u001B[0m\u001B[1;33m]\u001B[0m\u001B[1;33m,\u001B[0m \u001B[0mtransform_tensors\u001B[0m\u001B[1;33m[\u001B[0m\u001B[1;36m1\u001B[0m\u001B[1;33m]\u001B[0m\u001B[1;33m,\u001B[0m\u001B[0maverage\u001B[0m\u001B[1;33m=\u001B[0m\u001B[1;32mNone\u001B[0m\u001B[1;33m)\u001B[0m\u001B[1;33m\u001B[0m\u001B[1;33m\u001B[0m\u001B[0m\n\u001B[1;32m---> 32\u001B[1;33m         \u001B[0mauc_score\u001B[0m \u001B[1;33m+=\u001B[0m \u001B[0mmetrics\u001B[0m\u001B[1;33m.\u001B[0m\u001B[0mroc_auc_score\u001B[0m\u001B[1;33m(\u001B[0m\u001B[0mtransform_tensors\u001B[0m\u001B[1;33m[\u001B[0m\u001B[1;36m0\u001B[0m\u001B[1;33m]\u001B[0m\u001B[1;33m,\u001B[0m \u001B[0mtransform_tensors\u001B[0m\u001B[1;33m[\u001B[0m\u001B[1;36m1\u001B[0m\u001B[1;33m]\u001B[0m\u001B[1;33m,\u001B[0m \u001B[0maverage\u001B[0m\u001B[1;33m=\u001B[0m\u001B[1;32mNone\u001B[0m\u001B[1;33m,\u001B[0m \u001B[0mmulti_class\u001B[0m\u001B[1;33m=\u001B[0m\u001B[1;34m'ovo'\u001B[0m\u001B[1;33m)\u001B[0m\u001B[1;33m\u001B[0m\u001B[1;33m\u001B[0m\u001B[0m\n\u001B[0m\u001B[0;32m     33\u001B[0m         \u001B[0mdice_coefficient\u001B[0m \u001B[1;33m+=\u001B[0m \u001B[0mabs\u001B[0m\u001B[1;33m(\u001B[0m\u001B[0mspatial\u001B[0m\u001B[1;33m.\u001B[0m\u001B[0mdistance\u001B[0m\u001B[1;33m.\u001B[0m\u001B[0mdice\u001B[0m\u001B[1;33m(\u001B[0m\u001B[0mtransform_tensors\u001B[0m\u001B[1;33m[\u001B[0m\u001B[1;36m0\u001B[0m\u001B[1;33m]\u001B[0m\u001B[1;33m,\u001B[0m \u001B[0mtransform_tensors\u001B[0m\u001B[1;33m[\u001B[0m\u001B[1;36m1\u001B[0m\u001B[1;33m]\u001B[0m\u001B[1;33m,\u001B[0m \u001B[0mw\u001B[0m\u001B[1;33m=\u001B[0m\u001B[1;32mNone\u001B[0m\u001B[1;33m)\u001B[0m\u001B[1;33m)\u001B[0m\u001B[1;33m\u001B[0m\u001B[1;33m\u001B[0m\u001B[0m\n\u001B[0;32m     34\u001B[0m \u001B[1;33m\u001B[0m\u001B[0m\n",
      "\u001B[1;32mc:\\users\\chris\\appdata\\local\\programs\\python\\python37\\lib\\site-packages\\sklearn\\utils\\validation.py\u001B[0m in \u001B[0;36minner_f\u001B[1;34m(*args, **kwargs)\u001B[0m\n\u001B[0;32m     61\u001B[0m             \u001B[0mextra_args\u001B[0m \u001B[1;33m=\u001B[0m \u001B[0mlen\u001B[0m\u001B[1;33m(\u001B[0m\u001B[0margs\u001B[0m\u001B[1;33m)\u001B[0m \u001B[1;33m-\u001B[0m \u001B[0mlen\u001B[0m\u001B[1;33m(\u001B[0m\u001B[0mall_args\u001B[0m\u001B[1;33m)\u001B[0m\u001B[1;33m\u001B[0m\u001B[1;33m\u001B[0m\u001B[0m\n\u001B[0;32m     62\u001B[0m             \u001B[1;32mif\u001B[0m \u001B[0mextra_args\u001B[0m \u001B[1;33m<=\u001B[0m \u001B[1;36m0\u001B[0m\u001B[1;33m:\u001B[0m\u001B[1;33m\u001B[0m\u001B[1;33m\u001B[0m\u001B[0m\n\u001B[1;32m---> 63\u001B[1;33m                 \u001B[1;32mreturn\u001B[0m \u001B[0mf\u001B[0m\u001B[1;33m(\u001B[0m\u001B[1;33m*\u001B[0m\u001B[0margs\u001B[0m\u001B[1;33m,\u001B[0m \u001B[1;33m**\u001B[0m\u001B[0mkwargs\u001B[0m\u001B[1;33m)\u001B[0m\u001B[1;33m\u001B[0m\u001B[1;33m\u001B[0m\u001B[0m\n\u001B[0m\u001B[0;32m     64\u001B[0m \u001B[1;33m\u001B[0m\u001B[0m\n\u001B[0;32m     65\u001B[0m             \u001B[1;31m# extra_args > 0\u001B[0m\u001B[1;33m\u001B[0m\u001B[1;33m\u001B[0m\u001B[1;33m\u001B[0m\u001B[0m\n",
      "\u001B[1;32mc:\\users\\chris\\appdata\\local\\programs\\python\\python37\\lib\\site-packages\\sklearn\\metrics\\_ranking.py\u001B[0m in \u001B[0;36mroc_auc_score\u001B[1;34m(y_true, y_score, average, sample_weight, max_fpr, multi_class, labels)\u001B[0m\n\u001B[0;32m    536\u001B[0m             \u001B[1;32mraise\u001B[0m \u001B[0mValueError\u001B[0m\u001B[1;33m(\u001B[0m\u001B[1;34m\"multi_class must be in ('ovo', 'ovr')\"\u001B[0m\u001B[1;33m)\u001B[0m\u001B[1;33m\u001B[0m\u001B[1;33m\u001B[0m\u001B[0m\n\u001B[0;32m    537\u001B[0m         return _multiclass_roc_auc_score(y_true, y_score, labels,\n\u001B[1;32m--> 538\u001B[1;33m                                          multi_class, average, sample_weight)\n\u001B[0m\u001B[0;32m    539\u001B[0m     \u001B[1;32melif\u001B[0m \u001B[0my_type\u001B[0m \u001B[1;33m==\u001B[0m \u001B[1;34m\"binary\"\u001B[0m\u001B[1;33m:\u001B[0m\u001B[1;33m\u001B[0m\u001B[1;33m\u001B[0m\u001B[0m\n\u001B[0;32m    540\u001B[0m         \u001B[0mlabels\u001B[0m \u001B[1;33m=\u001B[0m \u001B[0mnp\u001B[0m\u001B[1;33m.\u001B[0m\u001B[0munique\u001B[0m\u001B[1;33m(\u001B[0m\u001B[0my_true\u001B[0m\u001B[1;33m)\u001B[0m\u001B[1;33m\u001B[0m\u001B[1;33m\u001B[0m\u001B[0m\n",
      "\u001B[1;32mc:\\users\\chris\\appdata\\local\\programs\\python\\python37\\lib\\site-packages\\sklearn\\metrics\\_ranking.py\u001B[0m in \u001B[0;36m_multiclass_roc_auc_score\u001B[1;34m(y_true, y_score, labels, multi_class, average, sample_weight)\u001B[0m\n\u001B[0;32m    593\u001B[0m     \"\"\"\n\u001B[0;32m    594\u001B[0m     \u001B[1;31m# validation of the input y_score\u001B[0m\u001B[1;33m\u001B[0m\u001B[1;33m\u001B[0m\u001B[1;33m\u001B[0m\u001B[0m\n\u001B[1;32m--> 595\u001B[1;33m     \u001B[1;32mif\u001B[0m \u001B[1;32mnot\u001B[0m \u001B[0mnp\u001B[0m\u001B[1;33m.\u001B[0m\u001B[0mallclose\u001B[0m\u001B[1;33m(\u001B[0m\u001B[1;36m1\u001B[0m\u001B[1;33m,\u001B[0m \u001B[0my_score\u001B[0m\u001B[1;33m.\u001B[0m\u001B[0msum\u001B[0m\u001B[1;33m(\u001B[0m\u001B[0maxis\u001B[0m\u001B[1;33m=\u001B[0m\u001B[1;36m1\u001B[0m\u001B[1;33m)\u001B[0m\u001B[1;33m)\u001B[0m\u001B[1;33m:\u001B[0m\u001B[1;33m\u001B[0m\u001B[1;33m\u001B[0m\u001B[0m\n\u001B[0m\u001B[0;32m    596\u001B[0m         raise ValueError(\n\u001B[0;32m    597\u001B[0m             \u001B[1;34m\"Target scores need to be probabilities for multiclass \"\u001B[0m\u001B[1;33m\u001B[0m\u001B[1;33m\u001B[0m\u001B[0m\n",
      "\u001B[1;32mc:\\users\\chris\\appdata\\local\\programs\\python\\python37\\lib\\site-packages\\numpy\\core\\_methods.py\u001B[0m in \u001B[0;36m_sum\u001B[1;34m(a, axis, dtype, out, keepdims, initial, where)\u001B[0m\n\u001B[0;32m     45\u001B[0m def _sum(a, axis=None, dtype=None, out=None, keepdims=False,\n\u001B[0;32m     46\u001B[0m          initial=_NoValue, where=True):\n\u001B[1;32m---> 47\u001B[1;33m     \u001B[1;32mreturn\u001B[0m \u001B[0mumr_sum\u001B[0m\u001B[1;33m(\u001B[0m\u001B[0ma\u001B[0m\u001B[1;33m,\u001B[0m \u001B[0maxis\u001B[0m\u001B[1;33m,\u001B[0m \u001B[0mdtype\u001B[0m\u001B[1;33m,\u001B[0m \u001B[0mout\u001B[0m\u001B[1;33m,\u001B[0m \u001B[0mkeepdims\u001B[0m\u001B[1;33m,\u001B[0m \u001B[0minitial\u001B[0m\u001B[1;33m,\u001B[0m \u001B[0mwhere\u001B[0m\u001B[1;33m)\u001B[0m\u001B[1;33m\u001B[0m\u001B[1;33m\u001B[0m\u001B[0m\n\u001B[0m\u001B[0;32m     48\u001B[0m \u001B[1;33m\u001B[0m\u001B[0m\n\u001B[0;32m     49\u001B[0m def _prod(a, axis=None, dtype=None, out=None, keepdims=False,\n",
      "\u001B[1;31mAxisError\u001B[0m: axis 1 is out of bounds for array of dimension 1"
     ]
    }
   ],
   "source": [
    "#Only during the programming. We dont want want to build the testlist every time\n",
    "breaker = True\n",
    "\n",
    "if evaluate:\n",
    "    testloader_loop = tqdm(test_loader)\n",
    "\n",
    "    #Set model mode to evaluation\n",
    "    r2u_net.eval()\n",
    "\n",
    "    #Iterate over all batches in validation_loader\n",
    "    for i, batch in enumerate(testloader_loop):\n",
    "        if breaker and i > 2:\n",
    "            break\n",
    "        #Input Image for forward pass\n",
    "        test_image = batch[0].to(device)\n",
    "\n",
    "        #Label \"image\" for comparing with loss function\n",
    "        ground_truth = batch[1].cpu()\n",
    "        ground_truth = ground_truth.squeeze(1)\n",
    "\n",
    "        #Forward propagation\n",
    "        with torch.cuda.amp.autocast():\n",
    "            prediction = r2u_net(test_image)\n",
    "\n",
    "        truth_list.append(ground_truth.float())\n",
    "        pred_list.append(prediction.cpu().float())\n",
    "\n",
    "    scores = evaluate(truth_list, pred_list)\n",
    "\n",
    "    f1_score = scores[0]\n",
    "    auc_score = scores[1]\n",
    "    dice_coefficient = scores[2]\n",
    "\n",
    "    print(\"Finished evaluation!\")"
   ],
   "metadata": {
    "collapsed": false,
    "pycharm": {
     "name": "#%%\n"
    }
   }
  },
  {
   "cell_type": "markdown",
   "source": [
    "#### Print lists of scores"
   ],
   "metadata": {
    "collapsed": false
   }
  },
  {
   "cell_type": "code",
   "execution_count": null,
   "outputs": [],
   "source": [
    "print(\"F1 score: \" + str(f1_score))\n",
    "print(\"AUC score: \" + str(auc_score))\n",
    "print(\"DICE coefficient: \" + str(dice_coefficient))"
   ],
   "metadata": {
    "collapsed": false,
    "pycharm": {
     "name": "#%%\n"
    }
   }
  },
  {
   "cell_type": "markdown",
   "source": [
    "#### Evaluation plots"
   ],
   "metadata": {
    "collapsed": false,
    "pycharm": {
     "name": "#%% md\n"
    }
   }
  },
  {
   "cell_type": "code",
   "execution_count": null,
   "outputs": [],
   "source": [
    "\n"
   ],
   "metadata": {
    "collapsed": false,
    "pycharm": {
     "name": "#%%\n"
    }
   }
  }
 ],
 "metadata": {
  "kernelspec": {
   "display_name": "Python 3",
   "language": "python",
   "name": "python3"
  },
  "language_info": {
   "codemirror_mode": {
    "name": "ipython",
    "version": 2
   },
   "file_extension": ".py",
   "mimetype": "text/x-python",
   "name": "python",
   "nbconvert_exporter": "python",
   "pygments_lexer": "ipython2",
   "version": "3.9.2-final"
  }
 },
 "nbformat": 4,
 "nbformat_minor": 0
}